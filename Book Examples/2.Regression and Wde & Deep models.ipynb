{
 "cells": [
  {
   "cell_type": "code",
   "execution_count": 1,
   "id": "0a07e109",
   "metadata": {},
   "outputs": [],
   "source": [
    "#California Housing Prediction\n",
    "import tensorflow as tf\n",
    "from tensorflow import keras "
   ]
  },
  {
   "cell_type": "code",
   "execution_count": 3,
   "id": "02bcb1bd",
   "metadata": {},
   "outputs": [],
   "source": [
    "from sklearn.datasets import fetch_california_housing\n",
    "from sklearn.model_selection import train_test_split\n",
    "from sklearn.preprocessing import StandardScaler"
   ]
  },
  {
   "cell_type": "code",
   "execution_count": 4,
   "id": "d52abb49",
   "metadata": {},
   "outputs": [],
   "source": [
    "housing = fetch_california_housing()"
   ]
  },
  {
   "cell_type": "code",
   "execution_count": 5,
   "id": "9ed902d7",
   "metadata": {},
   "outputs": [],
   "source": [
    "X_train_full, X_test, y_train_full, y_test = train_test_split(\n",
    "    housing.data, housing.target)\n",
    "X_train, X_valid, y_train, y_valid = train_test_split(\n",
    "    X_train_full, y_train_full)"
   ]
  },
  {
   "cell_type": "code",
   "execution_count": 1,
   "id": "a2a1cd46",
   "metadata": {},
   "outputs": [
    {
     "ename": "NameError",
     "evalue": "name 'StandardScaler' is not defined",
     "output_type": "error",
     "traceback": [
      "\u001b[1;31m---------------------------------------------------------------------------\u001b[0m",
      "\u001b[1;31mNameError\u001b[0m                                 Traceback (most recent call last)",
      "\u001b[1;32m~\\AppData\\Local\\Temp\\ipykernel_12132\\2327686435.py\u001b[0m in \u001b[0;36m<module>\u001b[1;34m\u001b[0m\n\u001b[1;32m----> 1\u001b[1;33m \u001b[0mscaler\u001b[0m \u001b[1;33m=\u001b[0m \u001b[0mStandardScaler\u001b[0m\u001b[1;33m(\u001b[0m\u001b[1;33m)\u001b[0m\u001b[1;33m\u001b[0m\u001b[1;33m\u001b[0m\u001b[0m\n\u001b[0m\u001b[0;32m      2\u001b[0m \u001b[0mX_train\u001b[0m \u001b[1;33m=\u001b[0m \u001b[0mscaler\u001b[0m\u001b[1;33m.\u001b[0m\u001b[0mfit_transform\u001b[0m\u001b[1;33m(\u001b[0m\u001b[0mX_train\u001b[0m\u001b[1;33m)\u001b[0m\u001b[1;33m\u001b[0m\u001b[1;33m\u001b[0m\u001b[0m\n\u001b[0;32m      3\u001b[0m \u001b[0mX_valid\u001b[0m \u001b[1;33m=\u001b[0m \u001b[0mscaler\u001b[0m\u001b[1;33m.\u001b[0m\u001b[0mtransform\u001b[0m\u001b[1;33m(\u001b[0m\u001b[0mX_valid\u001b[0m\u001b[1;33m)\u001b[0m\u001b[1;33m\u001b[0m\u001b[1;33m\u001b[0m\u001b[0m\n\u001b[0;32m      4\u001b[0m \u001b[0mX_test\u001b[0m \u001b[1;33m=\u001b[0m \u001b[0mscaler\u001b[0m\u001b[1;33m.\u001b[0m\u001b[0mtransform\u001b[0m\u001b[1;33m(\u001b[0m\u001b[0mX_test\u001b[0m\u001b[1;33m)\u001b[0m\u001b[1;33m\u001b[0m\u001b[1;33m\u001b[0m\u001b[0m\n",
      "\u001b[1;31mNameError\u001b[0m: name 'StandardScaler' is not defined"
     ]
    }
   ],
   "source": [
    "scaler = StandardScaler()\n",
    "X_train = scaler.fit_transform(X_train)\n",
    "X_valid = scaler.transform(X_valid)\n",
    "X_test = scaler.transform(X_test)"
   ]
  },
  {
   "cell_type": "code",
   "execution_count": 50,
   "id": "f685224e",
   "metadata": {},
   "outputs": [],
   "source": [
    "model = keras.models.Sequential([\n",
    "    keras.layers.Dense(30, activation=\"relu\", input_shape=X_train.shape[1:]),\n",
    "    keras.layers.Dense(1)\n",
    "])"
   ]
  },
  {
   "cell_type": "code",
   "execution_count": 51,
   "id": "c339f8a3",
   "metadata": {},
   "outputs": [
    {
     "name": "stdout",
     "output_type": "stream",
     "text": [
      "Epoch 1/20\n",
      "363/363 [==============================] - 2s 4ms/step - loss: 0.8621 - val_loss: 0.5892\n",
      "Epoch 2/20\n",
      "363/363 [==============================] - 1s 3ms/step - loss: 0.5295 - val_loss: 0.5075\n",
      "Epoch 3/20\n",
      "363/363 [==============================] - 1s 3ms/step - loss: 0.4819 - val_loss: 0.4725\n",
      "Epoch 4/20\n",
      "363/363 [==============================] - 1s 3ms/step - loss: 0.4729 - val_loss: 0.4604\n",
      "Epoch 5/20\n",
      "363/363 [==============================] - 1s 3ms/step - loss: 0.4529 - val_loss: 0.4487\n",
      "Epoch 6/20\n",
      "363/363 [==============================] - 1s 3ms/step - loss: 0.4379 - val_loss: 0.4416\n",
      "Epoch 7/20\n",
      "363/363 [==============================] - 1s 3ms/step - loss: 0.4306 - val_loss: 0.4370\n",
      "Epoch 8/20\n",
      "363/363 [==============================] - 1s 3ms/step - loss: 0.4215 - val_loss: 0.4281\n",
      "Epoch 9/20\n",
      "363/363 [==============================] - 1s 3ms/step - loss: 0.4164 - val_loss: 0.4263\n",
      "Epoch 10/20\n",
      "363/363 [==============================] - 1s 3ms/step - loss: 0.4275 - val_loss: 0.4124\n",
      "Epoch 11/20\n",
      "363/363 [==============================] - 1s 3ms/step - loss: 0.4063 - val_loss: 0.4147\n",
      "Epoch 12/20\n",
      "363/363 [==============================] - 1s 3ms/step - loss: 0.4041 - val_loss: 0.4025\n",
      "Epoch 13/20\n",
      "363/363 [==============================] - 1s 3ms/step - loss: 0.3986 - val_loss: 0.4171\n",
      "Epoch 14/20\n",
      "363/363 [==============================] - 1s 3ms/step - loss: 0.3951 - val_loss: 0.3981\n",
      "Epoch 15/20\n",
      "363/363 [==============================] - 1s 3ms/step - loss: 0.3919 - val_loss: 0.3990\n",
      "Epoch 16/20\n",
      "363/363 [==============================] - 1s 3ms/step - loss: 0.3894 - val_loss: 0.3987\n",
      "Epoch 17/20\n",
      "363/363 [==============================] - 1s 3ms/step - loss: 0.4002 - val_loss: 0.3936\n",
      "Epoch 18/20\n",
      "363/363 [==============================] - 1s 3ms/step - loss: 0.3825 - val_loss: 0.4044\n",
      "Epoch 19/20\n",
      "363/363 [==============================] - 1s 3ms/step - loss: 0.3784 - val_loss: 0.3844\n",
      "Epoch 20/20\n",
      "363/363 [==============================] - 1s 3ms/step - loss: 0.3884 - val_loss: 0.3783\n"
     ]
    }
   ],
   "source": [
    "model.compile(loss=\"mean_squared_error\", optimizer=\"sgd\")\n",
    "history = model.fit(X_train, y_train, epochs=20,\n",
    "                   validation_data=(X_valid, y_valid))\n"
   ]
  },
  {
   "cell_type": "code",
   "execution_count": 57,
   "id": "46382aca",
   "metadata": {},
   "outputs": [
    {
     "name": "stdout",
     "output_type": "stream",
     "text": [
      "162/162 [==============================] - 0s 2ms/step - loss: 0.3812\n",
      "0.3812374174594879\n",
      "1/1 [==============================] - 0s 103ms/step\n"
     ]
    },
    {
     "data": {
      "text/plain": [
       "array([[2.4578686],\n",
       "       [2.5795314],\n",
       "       [2.9599056]], dtype=float32)"
      ]
     },
     "execution_count": 57,
     "metadata": {},
     "output_type": "execute_result"
    }
   ],
   "source": [
    "mse_test = model.evaluate(X_test, y_test)\n",
    "print(mse_test)\n",
    "\n",
    "y_pred = model.predict(X_new)\n",
    "y_pred"
   ]
  },
  {
   "cell_type": "code",
   "execution_count": 58,
   "id": "d36827e3",
   "metadata": {},
   "outputs": [
    {
     "data": {
      "text/plain": [
       "array([1.473, 2.062, 2.314])"
      ]
     },
     "execution_count": 58,
     "metadata": {},
     "output_type": "execute_result"
    }
   ],
   "source": [
    " y_test[:3]"
   ]
  },
  {
   "cell_type": "code",
   "execution_count": null,
   "id": "929ee59f",
   "metadata": {},
   "outputs": [],
   "source": []
  },
  {
   "cell_type": "code",
   "execution_count": null,
   "id": "0a96c01c",
   "metadata": {},
   "outputs": [],
   "source": []
  },
  {
   "cell_type": "code",
   "execution_count": null,
   "id": "e47dbd9c",
   "metadata": {},
   "outputs": [],
   "source": []
  },
  {
   "cell_type": "code",
   "execution_count": 59,
   "id": "a43ea83b",
   "metadata": {},
   "outputs": [],
   "source": [
    "# Wide and Deep neural network\n"
   ]
  },
  {
   "cell_type": "code",
   "execution_count": 60,
   "id": "f4b263fc",
   "metadata": {},
   "outputs": [],
   "source": [
    "# sending all the inputs to output layer\n",
    "input_ = keras.layers.Input(shape=X_train.shape[1:])\n",
    "hidden1 = keras.layers.Dense(30, activation=\"relu\")(input_)\n",
    "hidden2 = keras.layers.Dense(30, activation=\"relu\")(hidden1)\n",
    "concat = keras.layers.Concatenate()([input_, hidden2])\n",
    "output = keras.layers.Dense(1)(concat)\n",
    "model2 = keras.Model(inputs=[input_], outputs=[output])"
   ]
  },
  {
   "cell_type": "code",
   "execution_count": 61,
   "id": "bab29a54",
   "metadata": {},
   "outputs": [],
   "source": [
    "#sending only a few features directly to output layer\n",
    "# and passing others to the deep path\n",
    "input_A = keras.layers.Input(shape=[5], name=\"width_input\")\n",
    "input_B = keras.layers.Input(shape=[6], name=\"deep_input\")\n",
    "hidden1 = keras.layers.Dense(30, activation=\"relu\")(input_B)\n",
    "hidden2 = keras.layers.Dense(30, activation=\"relu\")(hidden1)\n",
    "concat = keras.layers.Concatenate()([input_A, hidden2])\n",
    "output = keras.layers.Dense(1, name=\"output\")(concat)\n",
    "model2 = keras.Model(inputs=[input_A, input_B], outputs=[output])"
   ]
  },
  {
   "cell_type": "code",
   "execution_count": 62,
   "id": "f0d4f12d",
   "metadata": {},
   "outputs": [],
   "source": [
    "model2.compile(loss=\"mse\", \n",
    "              optimizer=keras.optimizers.SGD(learning_rate=1e-3))"
   ]
  },
  {
   "cell_type": "code",
   "execution_count": 63,
   "id": "64e3b6a8",
   "metadata": {},
   "outputs": [],
   "source": [
    "X_train_A, X_train_B = X_train[:, :5], X_train[:, 2:]\n",
    "X_valid_A, X_valid_B = X_valid[:, :5], X_valid[:, 2:]\n",
    "X_test_A, X_test_B = X_test[:, :5], X_test[:, 2:]\n",
    "X_new_A, X_new_B = X_test_A[:3], X_test_B[:3]\n"
   ]
  },
  {
   "cell_type": "code",
   "execution_count": 66,
   "id": "02e9aeda",
   "metadata": {},
   "outputs": [
    {
     "name": "stdout",
     "output_type": "stream",
     "text": [
      "Epoch 1/20\n",
      "363/363 [==============================] - 2s 4ms/step - loss: 1.9916 - val_loss: 0.8485\n",
      "Epoch 2/20\n",
      "363/363 [==============================] - 1s 3ms/step - loss: 0.8090 - val_loss: 0.7087\n",
      "Epoch 3/20\n",
      "363/363 [==============================] - 1s 3ms/step - loss: 0.6809 - val_loss: 0.6695\n",
      "Epoch 4/20\n",
      "363/363 [==============================] - 1s 3ms/step - loss: 0.6433 - val_loss: 0.6440\n",
      "Epoch 5/20\n",
      "363/363 [==============================] - 1s 3ms/step - loss: 0.6185 - val_loss: 0.6220\n",
      "Epoch 6/20\n",
      "363/363 [==============================] - 1s 3ms/step - loss: 0.5988 - val_loss: 0.6042\n",
      "Epoch 7/20\n",
      "363/363 [==============================] - 1s 3ms/step - loss: 0.5833 - val_loss: 0.5913\n",
      "Epoch 8/20\n",
      "363/363 [==============================] - 1s 3ms/step - loss: 0.5701 - val_loss: 0.5797\n",
      "Epoch 9/20\n",
      "363/363 [==============================] - 1s 3ms/step - loss: 0.5590 - val_loss: 0.5677\n",
      "Epoch 10/20\n",
      "363/363 [==============================] - 1s 3ms/step - loss: 0.5499 - val_loss: 0.5620\n",
      "Epoch 11/20\n",
      "363/363 [==============================] - 1s 3ms/step - loss: 0.5416 - val_loss: 0.5589\n",
      "Epoch 12/20\n",
      "363/363 [==============================] - 1s 3ms/step - loss: 0.5346 - val_loss: 0.5475\n",
      "Epoch 13/20\n",
      "363/363 [==============================] - 1s 3ms/step - loss: 0.5284 - val_loss: 0.5407\n",
      "Epoch 14/20\n",
      "363/363 [==============================] - 1s 3ms/step - loss: 0.5227 - val_loss: 0.5346\n",
      "Epoch 15/20\n",
      "363/363 [==============================] - 1s 3ms/step - loss: 0.5179 - val_loss: 0.5308\n",
      "Epoch 16/20\n",
      "363/363 [==============================] - 1s 3ms/step - loss: 0.5131 - val_loss: 0.5252\n",
      "Epoch 17/20\n",
      "363/363 [==============================] - 1s 3ms/step - loss: 0.5091 - val_loss: 0.5230\n",
      "Epoch 18/20\n",
      "363/363 [==============================] - 1s 3ms/step - loss: 0.5053 - val_loss: 0.5169\n",
      "Epoch 19/20\n",
      "363/363 [==============================] - 1s 4ms/step - loss: 0.5017 - val_loss: 0.5124\n",
      "Epoch 20/20\n",
      "363/363 [==============================] - 1s 3ms/step - loss: 0.4983 - val_loss: 0.5094\n"
     ]
    }
   ],
   "source": [
    "history = model2.fit((X_train_A, X_train_B), y_train, epochs=20,\n",
    "                   validation_data=((X_valid_A,X_valid_B), y_valid))"
   ]
  },
  {
   "cell_type": "code",
   "execution_count": 69,
   "id": "1679886c",
   "metadata": {},
   "outputs": [
    {
     "name": "stdout",
     "output_type": "stream",
     "text": [
      "162/162 [==============================] - 0s 2ms/step - loss: 0.5087\n",
      "0.5086909532546997\n",
      "1/1 [==============================] - 0s 50ms/step\n"
     ]
    },
    {
     "data": {
      "text/plain": [
       "array([[2.416431 ],\n",
       "       [2.6363933],\n",
       "       [2.667683 ]], dtype=float32)"
      ]
     },
     "execution_count": 69,
     "metadata": {},
     "output_type": "execute_result"
    }
   ],
   "source": [
    "mse_test = model2.evaluate((X_test_A, X_test_B), y_test)\n",
    "print(mse_test)\n",
    "y_pred = model2.predict((X_new_A, X_new_B))\n",
    "y_pred"
   ]
  },
  {
   "cell_type": "code",
   "execution_count": null,
   "id": "aca851be",
   "metadata": {},
   "outputs": [],
   "source": []
  },
  {
   "cell_type": "code",
   "execution_count": 70,
   "id": "058cf3a7",
   "metadata": {},
   "outputs": [],
   "source": [
    "# Model with multiple outputs"
   ]
  },
  {
   "cell_type": "code",
   "execution_count": 71,
   "id": "4acc415c",
   "metadata": {},
   "outputs": [],
   "source": [
    "output = keras.layers.Dense(1, name=\"main_output\")(concat)\n",
    "aux_output = keras.layers.Dense(1, name=\"aux_output\")(hidden2)\n",
    "model3 = keras.Model(inputs=[input_A, input_B], outputs=[output, aux_output])"
   ]
  },
  {
   "cell_type": "code",
   "execution_count": 74,
   "id": "e4e78617",
   "metadata": {},
   "outputs": [],
   "source": [
    "# specifying weights for loss of main and auxiliary outputs\n",
    "model3.compile(loss=[\"mse\", \"mse\"], loss_weights=[0.9, 0.1], optimizer=\"sgd\")"
   ]
  },
  {
   "cell_type": "code",
   "execution_count": 76,
   "id": "920f0340",
   "metadata": {},
   "outputs": [
    {
     "name": "stdout",
     "output_type": "stream",
     "text": [
      "Epoch 1/20\n",
      "363/363 [==============================] - 3s 5ms/step - loss: 0.8220 - main_output_loss: 0.6894 - aux_output_loss: 2.0153 - val_loss: 0.6231 - val_main_output_loss: 0.5449 - val_aux_output_loss: 1.3267\n",
      "Epoch 2/20\n",
      "363/363 [==============================] - 1s 4ms/step - loss: 0.5782 - main_output_loss: 0.5082 - aux_output_loss: 1.2088 - val_loss: 0.5679 - val_main_output_loss: 0.5085 - val_aux_output_loss: 1.1025\n",
      "Epoch 3/20\n",
      "363/363 [==============================] - 1s 4ms/step - loss: 0.5325 - main_output_loss: 0.4776 - aux_output_loss: 1.0260 - val_loss: 0.5223 - val_main_output_loss: 0.4763 - val_aux_output_loss: 0.9366\n",
      "Epoch 4/20\n",
      "363/363 [==============================] - 1s 4ms/step - loss: 0.5081 - main_output_loss: 0.4651 - aux_output_loss: 0.8951 - val_loss: 0.5018 - val_main_output_loss: 0.4643 - val_aux_output_loss: 0.8392\n",
      "Epoch 5/20\n",
      "363/363 [==============================] - 1s 4ms/step - loss: 0.4926 - main_output_loss: 0.4574 - aux_output_loss: 0.8089 - val_loss: 0.4950 - val_main_output_loss: 0.4645 - val_aux_output_loss: 0.7699\n",
      "Epoch 6/20\n",
      "363/363 [==============================] - 1s 4ms/step - loss: 0.4775 - main_output_loss: 0.4473 - aux_output_loss: 0.7496 - val_loss: 0.4998 - val_main_output_loss: 0.4748 - val_aux_output_loss: 0.7247\n",
      "Epoch 7/20\n",
      "363/363 [==============================] - 1s 4ms/step - loss: 0.4670 - main_output_loss: 0.4398 - aux_output_loss: 0.7119 - val_loss: 0.4678 - val_main_output_loss: 0.4433 - val_aux_output_loss: 0.6877\n",
      "Epoch 8/20\n",
      "363/363 [==============================] - 1s 4ms/step - loss: 0.4573 - main_output_loss: 0.4321 - aux_output_loss: 0.6840 - val_loss: 0.4511 - val_main_output_loss: 0.4278 - val_aux_output_loss: 0.6610\n",
      "Epoch 9/20\n",
      "363/363 [==============================] - 1s 4ms/step - loss: 0.4494 - main_output_loss: 0.4257 - aux_output_loss: 0.6631 - val_loss: 0.4546 - val_main_output_loss: 0.4332 - val_aux_output_loss: 0.6476\n",
      "Epoch 10/20\n",
      "363/363 [==============================] - 1s 4ms/step - loss: 0.4411 - main_output_loss: 0.4183 - aux_output_loss: 0.6467 - val_loss: 0.4519 - val_main_output_loss: 0.4320 - val_aux_output_loss: 0.6307\n",
      "Epoch 11/20\n",
      "363/363 [==============================] - 1s 4ms/step - loss: 0.4312 - main_output_loss: 0.4090 - aux_output_loss: 0.6310 - val_loss: 0.4323 - val_main_output_loss: 0.4116 - val_aux_output_loss: 0.6179\n",
      "Epoch 12/20\n",
      "363/363 [==============================] - 2s 4ms/step - loss: 0.4253 - main_output_loss: 0.4037 - aux_output_loss: 0.6194 - val_loss: 0.4210 - val_main_output_loss: 0.4002 - val_aux_output_loss: 0.6078\n",
      "Epoch 13/20\n",
      "363/363 [==============================] - 1s 4ms/step - loss: 0.4186 - main_output_loss: 0.3975 - aux_output_loss: 0.6080 - val_loss: 0.4213 - val_main_output_loss: 0.4024 - val_aux_output_loss: 0.5917\n",
      "Epoch 14/20\n",
      "363/363 [==============================] - 1s 4ms/step - loss: 0.4106 - main_output_loss: 0.3898 - aux_output_loss: 0.5975 - val_loss: 0.4087 - val_main_output_loss: 0.3896 - val_aux_output_loss: 0.5812\n",
      "Epoch 15/20\n",
      "363/363 [==============================] - 1s 4ms/step - loss: 0.4048 - main_output_loss: 0.3846 - aux_output_loss: 0.5874 - val_loss: 0.4146 - val_main_output_loss: 0.3963 - val_aux_output_loss: 0.5790\n",
      "Epoch 16/20\n",
      "363/363 [==============================] - 1s 4ms/step - loss: 0.4041 - main_output_loss: 0.3843 - aux_output_loss: 0.5826 - val_loss: 0.3909 - val_main_output_loss: 0.3722 - val_aux_output_loss: 0.5597\n",
      "Epoch 17/20\n",
      "363/363 [==============================] - 1s 4ms/step - loss: 0.3937 - main_output_loss: 0.3742 - aux_output_loss: 0.5696 - val_loss: 0.3895 - val_main_output_loss: 0.3712 - val_aux_output_loss: 0.5551\n",
      "Epoch 18/20\n",
      "363/363 [==============================] - 1s 4ms/step - loss: 0.3928 - main_output_loss: 0.3734 - aux_output_loss: 0.5670 - val_loss: 0.4175 - val_main_output_loss: 0.4011 - val_aux_output_loss: 0.5652\n",
      "Epoch 19/20\n",
      "363/363 [==============================] - 1s 4ms/step - loss: 0.3900 - main_output_loss: 0.3714 - aux_output_loss: 0.5570 - val_loss: 0.3926 - val_main_output_loss: 0.3761 - val_aux_output_loss: 0.5408\n",
      "Epoch 20/20\n",
      "363/363 [==============================] - 1s 4ms/step - loss: 0.3803 - main_output_loss: 0.3618 - aux_output_loss: 0.5461 - val_loss: 0.3789 - val_main_output_loss: 0.3620 - val_aux_output_loss: 0.5307\n"
     ]
    }
   ],
   "source": [
    "# here we are making the main and auxiliary outputs to give the same output\n",
    "history = model3.fit(\n",
    "[X_train_A, X_train_B], [y_train, y_train], epochs=20,\n",
    "validation_data=([X_valid_A, X_valid_B], [y_valid, y_valid]))"
   ]
  },
  {
   "cell_type": "code",
   "execution_count": 78,
   "id": "f066e4b3",
   "metadata": {},
   "outputs": [
    {
     "name": "stdout",
     "output_type": "stream",
     "text": [
      "162/162 [==============================] - 0s 3ms/step - loss: 0.3817 - main_output_loss: 0.3641 - aux_output_loss: 0.5402\n"
     ]
    }
   ],
   "source": [
    "total_loss, main_loss, aux_loss = model3.evaluate(\n",
    "[X_test_A, X_test_B], [y_test, y_test])"
   ]
  },
  {
   "cell_type": "code",
   "execution_count": 83,
   "id": "11317812",
   "metadata": {},
   "outputs": [
    {
     "name": "stdout",
     "output_type": "stream",
     "text": [
      "1/1 [==============================] - 0s 53ms/step\n",
      "[[2.0546355]\n",
      " [2.7778234]\n",
      " [2.7838705]]\n",
      "[[1.837851 ]\n",
      " [2.8088763]\n",
      " [2.44762  ]]\n"
     ]
    }
   ],
   "source": [
    "y_pred_main, y_pred_aux = model3.predict([X_new_A, X_new_B])\n",
    "print(y_pred_main)\n",
    "print(y_pred_aux )"
   ]
  },
  {
   "cell_type": "code",
   "execution_count": null,
   "id": "95f10689",
   "metadata": {},
   "outputs": [],
   "source": []
  }
 ],
 "metadata": {
  "kernelspec": {
   "display_name": "Python 3 (ipykernel)",
   "language": "python",
   "name": "python3"
  },
  "language_info": {
   "codemirror_mode": {
    "name": "ipython",
    "version": 3
   },
   "file_extension": ".py",
   "mimetype": "text/x-python",
   "name": "python",
   "nbconvert_exporter": "python",
   "pygments_lexer": "ipython3",
   "version": "3.9.13"
  }
 },
 "nbformat": 4,
 "nbformat_minor": 5
}
