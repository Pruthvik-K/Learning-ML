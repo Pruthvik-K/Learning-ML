{
 "cells": [
  {
   "cell_type": "code",
   "execution_count": 7,
   "id": "5cef6ddd",
   "metadata": {},
   "outputs": [],
   "source": [
    "import tensorflow as tf\n",
    "from tensorflow import keras"
   ]
  },
  {
   "cell_type": "code",
   "execution_count": 15,
   "id": "17a414b5",
   "metadata": {},
   "outputs": [],
   "source": [
    "import os \n",
    "root_logdir = os.path.join(os.curdir, \"my_logs\")\n",
    "def get_run_logdir():\n",
    "    import time\n",
    "    run_id = time.strftime(\"run_%Y_%m_%d-%H_%M_%S\")\n",
    "    return os.path.join(root_logdir, run_id)\n",
    "\n",
    "run_logdir = get_run_logdir()"
   ]
  },
  {
   "cell_type": "code",
   "execution_count": 19,
   "id": "f5f851a2",
   "metadata": {},
   "outputs": [],
   "source": [
    "from sklearn.datasets import fetch_california_housing\n",
    "from sklearn.model_selection import train_test_split\n",
    "from sklearn.preprocessing import StandardScaler"
   ]
  },
  {
   "cell_type": "code",
   "execution_count": 26,
   "id": "c8bd29bd",
   "metadata": {},
   "outputs": [],
   "source": [
    "housing = fetch_california_housing()\n",
    "X_train_full, X_test, y_train_full, y_test = train_test_split(\n",
    "    housing.data, housing.target)\n",
    "X_train, X_valid, y_train, y_valid = train_test_split(\n",
    "    X_train_full, y_train_full)"
   ]
  },
  {
   "cell_type": "code",
   "execution_count": 27,
   "id": "86d7a5a0",
   "metadata": {},
   "outputs": [],
   "source": [
    "scaler = StandardScaler()\n",
    "X_train = scaler.fit_transform(X_train)\n",
    "X_valid = scaler.transform(X_valid)\n",
    "X_test = scaler.transform(X_test)"
   ]
  },
  {
   "cell_type": "code",
   "execution_count": 32,
   "id": "be6ee3b7",
   "metadata": {},
   "outputs": [],
   "source": [
    "model = keras.models.Sequential([\n",
    "    keras.layers.Dense(30, activation=\"relu\", input_shape=X_train.shape[1:]),\n",
    "    keras.layers.Dense(1)\n",
    "])"
   ]
  },
  {
   "cell_type": "code",
   "execution_count": 33,
   "id": "4fd3c037",
   "metadata": {},
   "outputs": [
    {
     "name": "stdout",
     "output_type": "stream",
     "text": [
      "Epoch 1/20\n",
      "363/363 [==============================] - 2s 4ms/step - loss: 0.8235 - val_loss: 0.5007\n",
      "Epoch 2/20\n",
      "363/363 [==============================] - 1s 3ms/step - loss: 0.5013 - val_loss: 0.4905\n",
      "Epoch 3/20\n",
      "363/363 [==============================] - 1s 3ms/step - loss: 0.4653 - val_loss: 0.5768\n",
      "Epoch 4/20\n",
      "363/363 [==============================] - 1s 3ms/step - loss: 0.4690 - val_loss: 0.4111\n",
      "Epoch 5/20\n",
      "363/363 [==============================] - 1s 3ms/step - loss: 0.4304 - val_loss: 0.3935\n",
      "Epoch 6/20\n",
      "363/363 [==============================] - 1s 3ms/step - loss: 0.4190 - val_loss: 0.4000\n",
      "Epoch 7/20\n",
      "363/363 [==============================] - 1s 3ms/step - loss: 0.4734 - val_loss: 0.4293\n",
      "Epoch 8/20\n",
      "363/363 [==============================] - 1s 3ms/step - loss: 0.4121 - val_loss: 0.3829\n",
      "Epoch 9/20\n",
      "363/363 [==============================] - 1s 3ms/step - loss: 0.4012 - val_loss: 0.3868\n",
      "Epoch 10/20\n",
      "363/363 [==============================] - 1s 3ms/step - loss: 0.3978 - val_loss: 0.3779\n",
      "Epoch 11/20\n",
      "363/363 [==============================] - 1s 3ms/step - loss: 0.3930 - val_loss: 0.3676\n",
      "Epoch 12/20\n",
      "363/363 [==============================] - 1s 3ms/step - loss: 0.3828 - val_loss: 0.3645\n",
      "Epoch 13/20\n",
      "363/363 [==============================] - 1s 3ms/step - loss: 0.3780 - val_loss: 0.3580\n",
      "Epoch 14/20\n",
      "363/363 [==============================] - 1s 3ms/step - loss: 0.3877 - val_loss: 0.3507\n",
      "Epoch 15/20\n",
      "363/363 [==============================] - 1s 3ms/step - loss: 0.3725 - val_loss: 0.3522\n",
      "Epoch 16/20\n",
      "363/363 [==============================] - 1s 3ms/step - loss: 0.3704 - val_loss: 0.4083\n",
      "Epoch 17/20\n",
      "363/363 [==============================] - 1s 3ms/step - loss: 0.3691 - val_loss: 0.3454\n",
      "Epoch 18/20\n",
      "363/363 [==============================] - 1s 3ms/step - loss: 0.3647 - val_loss: 0.3444\n",
      "Epoch 19/20\n",
      "363/363 [==============================] - 1s 3ms/step - loss: 0.3688 - val_loss: 0.3602\n",
      "Epoch 20/20\n",
      "363/363 [==============================] - 1s 3ms/step - loss: 0.3646 - val_loss: 0.3859\n"
     ]
    }
   ],
   "source": [
    "model.compile(loss=\"mean_squared_error\", optimizer=\"sgd\")\n",
    "history = model.fit(X_train, y_train, epochs=20,\n",
    "                   validation_data=(X_valid, y_valid))\n"
   ]
  },
  {
   "cell_type": "code",
   "execution_count": 34,
   "id": "62d47d65",
   "metadata": {},
   "outputs": [
    {
     "name": "stdout",
     "output_type": "stream",
     "text": [
      "Epoch 1/30\n",
      "363/363 [==============================] - 2s 4ms/step - loss: 0.3566 - val_loss: 0.3370\n",
      "Epoch 2/30\n",
      "363/363 [==============================] - 1s 4ms/step - loss: 0.3553 - val_loss: 0.3495\n",
      "Epoch 3/30\n",
      "363/363 [==============================] - 1s 4ms/step - loss: 0.3513 - val_loss: 0.3302\n",
      "Epoch 4/30\n",
      "363/363 [==============================] - 1s 4ms/step - loss: 0.3488 - val_loss: 0.3361\n",
      "Epoch 5/30\n",
      "363/363 [==============================] - 1s 4ms/step - loss: 0.3551 - val_loss: 0.3363\n",
      "Epoch 6/30\n",
      "363/363 [==============================] - 1s 4ms/step - loss: 0.3470 - val_loss: 0.3421\n",
      "Epoch 7/30\n",
      "363/363 [==============================] - 1s 3ms/step - loss: 0.3482 - val_loss: 0.3340\n",
      "Epoch 8/30\n",
      "363/363 [==============================] - 1s 4ms/step - loss: 0.3459 - val_loss: 0.3288\n",
      "Epoch 9/30\n",
      "363/363 [==============================] - 1s 4ms/step - loss: 0.3507 - val_loss: 0.3245\n",
      "Epoch 10/30\n",
      "363/363 [==============================] - 1s 4ms/step - loss: 0.3595 - val_loss: 0.3321\n",
      "Epoch 11/30\n",
      "363/363 [==============================] - 1s 4ms/step - loss: 0.3463 - val_loss: 0.3262\n",
      "Epoch 12/30\n",
      "363/363 [==============================] - 1s 4ms/step - loss: 0.3401 - val_loss: 0.3191\n",
      "Epoch 13/30\n",
      "363/363 [==============================] - 1s 4ms/step - loss: 0.3387 - val_loss: 0.3179\n",
      "Epoch 14/30\n",
      "363/363 [==============================] - 1s 4ms/step - loss: 0.3367 - val_loss: 0.3214\n",
      "Epoch 15/30\n",
      "363/363 [==============================] - 1s 4ms/step - loss: 0.3380 - val_loss: 0.3187\n",
      "Epoch 16/30\n",
      "363/363 [==============================] - 1s 4ms/step - loss: 0.3374 - val_loss: 0.3196\n",
      "Epoch 17/30\n",
      "363/363 [==============================] - 1s 4ms/step - loss: 0.3405 - val_loss: 0.3196\n",
      "Epoch 18/30\n",
      "363/363 [==============================] - 1s 4ms/step - loss: 0.3401 - val_loss: 0.3269\n",
      "Epoch 19/30\n",
      "363/363 [==============================] - 1s 3ms/step - loss: 0.3373 - val_loss: 0.3397\n",
      "Epoch 20/30\n",
      "363/363 [==============================] - 1s 4ms/step - loss: 0.3338 - val_loss: 0.3206\n",
      "Epoch 21/30\n",
      "363/363 [==============================] - 1s 3ms/step - loss: 0.3344 - val_loss: 0.3176\n",
      "Epoch 22/30\n",
      "363/363 [==============================] - 1s 3ms/step - loss: 0.3328 - val_loss: 0.3125\n",
      "Epoch 23/30\n",
      "363/363 [==============================] - 1s 4ms/step - loss: 0.3330 - val_loss: 0.3205\n",
      "Epoch 24/30\n",
      "363/363 [==============================] - 1s 4ms/step - loss: 0.3298 - val_loss: 0.3563\n",
      "Epoch 25/30\n",
      "363/363 [==============================] - 1s 4ms/step - loss: 0.3280 - val_loss: 0.3121\n",
      "Epoch 26/30\n",
      "363/363 [==============================] - 1s 4ms/step - loss: 0.3294 - val_loss: 0.3088\n",
      "Epoch 27/30\n",
      "363/363 [==============================] - 1s 4ms/step - loss: 0.3286 - val_loss: 0.3073\n",
      "Epoch 28/30\n",
      "363/363 [==============================] - 1s 4ms/step - loss: 0.3279 - val_loss: 0.3680\n",
      "Epoch 29/30\n",
      "363/363 [==============================] - 1s 4ms/step - loss: 0.3295 - val_loss: 0.3077\n",
      "Epoch 30/30\n",
      "363/363 [==============================] - 1s 4ms/step - loss: 0.3268 - val_loss: 0.3084\n"
     ]
    }
   ],
   "source": [
    "tensorboard_cb = keras.callbacks.TensorBoard(run_logdir)\n",
    "history = model.fit(X_train, y_train, epochs=30,\n",
    "                   validation_data=(X_valid, y_valid),\n",
    "                   callbacks=[tensorboard_cb])"
   ]
  },
  {
   "cell_type": "code",
   "execution_count": 36,
   "id": "a25d76b9",
   "metadata": {},
   "outputs": [
    {
     "data": {
      "text/plain": [
       "Reusing TensorBoard on port 6006 (pid 7356), started 0:01:16 ago. (Use '!kill 7356' to kill it.)"
      ]
     },
     "metadata": {},
     "output_type": "display_data"
    },
    {
     "data": {
      "text/html": [
       "\n",
       "      <iframe id=\"tensorboard-frame-203fcd6b980db2d8\" width=\"100%\" height=\"800\" frameborder=\"0\">\n",
       "      </iframe>\n",
       "      <script>\n",
       "        (function() {\n",
       "          const frame = document.getElementById(\"tensorboard-frame-203fcd6b980db2d8\");\n",
       "          const url = new URL(\"/\", window.location);\n",
       "          const port = 6006;\n",
       "          if (port) {\n",
       "            url.port = port;\n",
       "          }\n",
       "          frame.src = url;\n",
       "        })();\n",
       "      </script>\n",
       "    "
      ],
      "text/plain": [
       "<IPython.core.display.HTML object>"
      ]
     },
     "metadata": {},
     "output_type": "display_data"
    }
   ],
   "source": [
    "%load_ext tensorboard\n",
    "%tensorboard --logdir=./my_logs --port=6006"
   ]
  },
  {
   "cell_type": "code",
   "execution_count": null,
   "id": "56950cfd",
   "metadata": {},
   "outputs": [],
   "source": []
  }
 ],
 "metadata": {
  "kernelspec": {
   "display_name": "Python 3 (ipykernel)",
   "language": "python",
   "name": "python3"
  },
  "language_info": {
   "codemirror_mode": {
    "name": "ipython",
    "version": 3
   },
   "file_extension": ".py",
   "mimetype": "text/x-python",
   "name": "python",
   "nbconvert_exporter": "python",
   "pygments_lexer": "ipython3",
   "version": "3.9.13"
  }
 },
 "nbformat": 4,
 "nbformat_minor": 5
}
